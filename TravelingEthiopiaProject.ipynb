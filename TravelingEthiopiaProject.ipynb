{
 "cells": [
  {
   "cell_type": "markdown",
   "metadata": {
    "id": "HWckcgjkTikP"
   },
   "source": [
    "# Uninformed Search"
   ]
  },
  {
   "cell_type": "code",
   "execution_count": 15,
   "metadata": {
    "id": "AEMMCAJaThhm"
   },
   "outputs": [],
   "source": [
    "graph = {'Addis Ababa': ['Ambo', 'Adama', 'Debre Berhan'], 'Adama': ['Asella', 'Matahara', 'Batu', 'Addis Ababa'], 'Ambo': ['Wolkite', 'Nekemte', 'Addis Ababa'], 'Debre Berhan': ['Debre Sina', 'Addis Ababa'], 'Matahara': ['Awash', 'Adama'], 'Asella': ['Adama', 'Assasa'], 'Batu': ['Shashamene', 'Adama', 'Buta Jirra'], 'Wolkite': ['Jimma', 'Ambo', 'Worabe'], 'Nekemte': ['Bedelle', 'Ambo', 'Gimbi'], 'Debre Sina': ['Debre Markos', 'Debre Berhan', 'Kemise'], 'Awash': ['Chiro', 'Matahara', 'Gobi Rasu'], 'Assasa': ['Asella', 'Dodolla'], 'Buta Jirra': ['Worabe', 'Batu'], 'Shashamene': ['Hawassa', 'Batu', 'Dodolla', 'Hossana'], 'Worabe': ['Wolkite', 'Hossana', 'Buta Jirra'], 'Jimma': ['Wolkite', 'Bedelle', 'Bonga'], 'Bedelle': ['Jimma', 'Nekemte', 'Gore'], 'Gimbi': ['Nekemte', 'Dambidollo'], 'Kemise': ['Dessie', 'Debre Sina'], 'Debre Markos': ['Finote Selam', 'Debre Sina'], 'Chiro': ['Dire Dawa', 'Awash'], 'Gobi Rasu': ['Awash', 'Samara'], 'Dodolla': ['Shashamene', 'Bale', 'Assasa'], 'Hawassa': ['Shashamene', 'Dilla'], 'Hossana': ['Shashamene', 'Wolaita Sodo', 'Worabe'], 'Bonga': ['Jimma', 'Tepi', 'Mizan Teferi', 'Dawro'], 'Gore': ['Bedelle', 'Tepi', 'Gambella'], 'Dambidollo': ['Assosa', 'Gimbi', 'Gambella'], 'Dessie': ['Woldia', 'Kemise'], 'Finote Selam': ['Debre Markos', 'Injibara', 'Bahirdar'], 'Dire Dawa': ['Harar', 'Chiro'], 'Samara': ['Fanti Rasu', 'Alamata', 'Woldia', 'Gobi Rasu'], 'Bale': ['Sof Oumer', 'Goba', 'Dodolla', 'Liben'], 'Dilla': ['Hawassa', 'Bulehora'], 'Wolaita Sodo': ['Arba Minchi', 'Dawro', 'Hossana'], 'Dawro': ['Wolaita Sodo', 'Basketo', 'Bonga'], 'Tepi': ['Mizan Teferi', 'Gore', 'Bonga'], 'Mizan Teferi': ['Basketo', 'Tepi', 'Bonga'], 'Gambella': ['Dambidollo', 'Gore'], 'Assosa': ['Dambidollo', 'Metekel'], 'Woldia': ['Dessie', 'Alamata', 'Lalibella', 'Samara'], 'Bahirdar': ['Finote Selam', 'Azezo', 'Injibara', 'Metekel', 'Debre Tabor'], 'Injibara': ['Finote Selam', 'Bahirdar'], 'Harar': ['Dire Dawa', 'Babile'], 'Fanti Rasu': ['Kilbet Rasu', 'Samara'], 'Alamata': ['Samara', 'Woldia', 'Sekota', 'Mekelle'], 'Liben': ['Bale'], 'Goba': ['Sof Oumer', 'Bale', 'Dega Habur'], 'Sof Oumer': ['Goba', 'Bale', 'Kebri Dehar'], 'Bulehora': ['Yabello', 'Dilla'], 'Arba Minchi': ['Wolaita Sodo', 'Konso', 'Basketo'], 'Basketo': ['Benchi Maji', 'Dawro', 'Mizan Teferi', 'Arba Minchi'], 'Metekel': ['Assosa', 'Bahirdar'], 'Lalibella': ['Woldia', 'Debre Tabor', 'Sekota'], 'Debre Tabor': ['Lalibella', 'Bahirdar'], 'Azezo': ['Gondar', 'Metema', 'Bahirdar'], 'Babile': ['Harar', 'Jigjiga'], 'Kilbet Rasu': ['Fanti Rasu'], 'Mekelle': ['Alamata', 'Adigrat', 'Adwa', 'Sekota'], 'Sekota': ['Alamata', 'Lalibella', 'Mekelle'], 'Dega Habur': ['Goba', 'Jigjiga', 'Kebri Dehar'], 'Kebri Dehar': ['Sof Oumer', 'Dega Habur', 'Werdez', 'Gode'], 'Yabello': ['Konso', 'Bulehora', 'Moyale'], 'Konso': ['Yabello', 'Arba Minchi'], 'Benchi Maji': ['Basketo'], 'Gondar': ['Debarke', 'Azezo', 'Metema'], 'Metema': ['Gondar', 'Azezo'], 'Jigjiga': ['Babile', 'Dega Habur'], 'Adwa': ['Adigrat', 'Axum', 'Mekelle'], 'Adigrat': ['Adwa', 'Mekelle'], 'Gode': ['Dollo', 'Kebri Dehar'], 'Werdez': ['Kebri Dehar'], 'Moyale': ['Yabello'], 'Debarke': ['Gondar', 'Shire'], 'Axum': ['Adwa', 'Shire'], 'Dollo': ['Gode'], 'Shire': ['Humera', 'Debarke', 'Axum'], 'Humera': ['Gondar', 'Shire']}\n"
   ]
  },
  {
   "cell_type": "code",
   "execution_count": 16,
   "metadata": {
    "id": "KlM5Z_rfSCFX"
   },
   "outputs": [],
   "source": [
    "from collections import deque\n",
    "\n",
    "class UnInformedSearchAlgorithm:\n",
    "    def __init__(self, graph, initial_state, goal_state, strategy):\n",
    "        self.graph = graph\n",
    "        self.initial_state = initial_state\n",
    "        self.goal_state = goal_state\n",
    "        self.strategy = strategy\n",
    "\n",
    "    def bfs(self):\n",
    "        visited = set()\n",
    "        queue = deque([[self.initial_state]])\n",
    "        while queue:\n",
    "            path = queue.popleft()\n",
    "            node = path[-1]\n",
    "            if node not in visited:\n",
    "                visited.add(node)\n",
    "                if node == self.goal_state:\n",
    "                    return path\n",
    "                for neighbor in self.graph[node]:\n",
    "                    new_path = list(path)\n",
    "                    new_path.append(neighbor)\n",
    "                    queue.append(new_path)\n",
    "        return None\n",
    "\n",
    "    def dfs(self):\n",
    "        visited = set()\n",
    "        stack = [[self.initial_state]]\n",
    "        while stack:\n",
    "            path = stack.pop()\n",
    "            node = path[-1]\n",
    "            if node not in visited:\n",
    "                visited.add(node)\n",
    "                if node == self.goal_state:\n",
    "                    return path\n",
    "                for neighbor in self.graph.get(node, []):\n",
    "                    new_path = list(path)\n",
    "                    new_path.append(neighbor)\n",
    "                    stack.append(new_path)\n",
    "        return None\n",
    "\n",
    "    def search(self):\n",
    "        if self.strategy == 'bfs':\n",
    "            path = self.bfs()\n",
    "        elif self.strategy == 'dfs':\n",
    "            path = self.dfs()\n",
    "        else:\n",
    "            raise ValueError(\"Invalid search strategy. Supported strategies are 'bfs' and 'dfs'.\")\n",
    "\n",
    "        if path:\n",
    "            print(\"Path found:\", \" -> \".join(path))\n",
    "        else:\n",
    "            print(\"No path found.\")"
   ]
  },
  {
   "cell_type": "code",
   "execution_count": 17,
   "metadata": {
    "id": "GtR5Q8qlVPD8"
   },
   "outputs": [],
   "source": [
    "initial_state = 'Addis Ababa'\n",
    "goal_state = 'Gondar'\n"
   ]
  },
  {
   "cell_type": "code",
   "execution_count": 18,
   "metadata": {
    "id": "Ze5PeOPRVU0z"
   },
   "outputs": [],
   "source": [
    "strategy = 'bfs'"
   ]
  },
  {
   "cell_type": "code",
   "execution_count": 19,
   "metadata": {
    "colab": {
     "base_uri": "https://localhost:8080/"
    },
    "id": "vieEbLomVWuD",
    "outputId": "57e88ed8-6494-484d-cdb6-4ea2cfd34453"
   },
   "outputs": [
    {
     "name": "stdout",
     "output_type": "stream",
     "text": [
      "Path found: Addis Ababa -> Debre Berhan -> Debre Sina -> Debre Markos -> Finote Selam -> Bahirdar -> Azezo -> Gondar\n"
     ]
    }
   ],
   "source": [
    "uninformed_search_algorithm = UnInformedSearchAlgorithm(graph, initial_state, goal_state, strategy)\n",
    "uninformed_search_algorithm.search()"
   ]
  },
  {
   "cell_type": "code",
   "execution_count": 20,
   "metadata": {
    "id": "AHgyBXoTZVPX"
   },
   "outputs": [],
   "source": [
    "strategy = 'dfs'"
   ]
  },
  {
   "cell_type": "code",
   "execution_count": 21,
   "metadata": {
    "colab": {
     "base_uri": "https://localhost:8080/"
    },
    "id": "mDwP_o2HZaoF",
    "outputId": "a6f86573-6838-49d6-bf48-51fca196ab38"
   },
   "outputs": [
    {
     "name": "stdout",
     "output_type": "stream",
     "text": [
      "Path found: Addis Ababa -> Debre Berhan -> Debre Sina -> Kemise -> Dessie -> Woldia -> Samara -> Gobi Rasu -> Awash -> Matahara -> Adama -> Batu -> Buta Jirra -> Worabe -> Hossana -> Wolaita Sodo -> Dawro -> Bonga -> Mizan Teferi -> Tepi -> Gore -> Gambella -> Dambidollo -> Assosa -> Metekel -> Bahirdar -> Debre Tabor -> Lalibella -> Sekota -> Mekelle -> Adwa -> Axum -> Shire -> Debarke -> Gondar\n"
     ]
    }
   ],
   "source": [
    "uninformed_search_algorithm = UnInformedSearchAlgorithm(graph, initial_state, goal_state, strategy)\n",
    "uninformed_search_algorithm.search()"
   ]
  },
  {
   "cell_type": "markdown",
   "metadata": {
    "id": "1Pdk931BZhqI"
   },
   "source": [
    "## Informed Search"
   ]
  },
  {
   "cell_type": "code",
   "execution_count": 22,
   "metadata": {
    "id": "xvbrtZd75GU-"
   },
   "outputs": [],
   "source": [
    "HEURISTIC = {'Addis Ababa': 26, 'Adama': 23, 'Ambo': 31, 'Debre Berhan': 31, 'Debre Markos': 39, 'Matahara': 26, 'Asella': 22, 'Batu': 19, 'Wolkite': 25, 'Nekemte': 39, 'Debre Sina': 33, 'Finote Selam': 42, 'Awash': 27, 'Assasa': 18, 'Buta Jirra': 21, 'Shashamene': 16, 'Worabe': 22, 'Jimma': 33, 'Hossana': 21, 'Bedelle': 40, 'Gimbi': 43, 'Kemise': 40, 'Bahirdar': 48, 'Injibara': 44, 'Chiro': 31, 'Gobi Rasu': 32, 'Dodolla': 19, 'Hawassa': 15, 'Bonga': 33, 'Wolaita Sodo': 17, 'Gore': 46, 'Dambidollo': 49, 'Assosa': 51, 'Dessie': 44, 'Metekel': 59, 'Azezo': 55, 'Debre Tabor': 52, 'Dire Dawa': 31, 'Samara': 42, 'Robe': 13, 'Dilla': 12, 'Dawro': 23, 'Tepi': 41, 'Mizan Teferi': 37, 'Arba Minchi': 13, 'Gambella': 51, 'Woldia': 50, 'Gondar': 56, 'Metema': 62, 'Lalibella': 57, 'Harar': 35, 'Fanti Rasu': 49, 'Alamata': 53, 'Liben': 11, 'Goba': 40, 'Sof Oumer': 45, 'Bulehora': 8, 'Konso': 9, 'Basketo': 23, 'Bench Maji': 28, 'Humera': 65, 'Debarke': 60, 'Sekota': 59, 'Babile': 37, 'Kilbet Rasu': 55, 'Mekelle': 58, 'Gode': 35, 'Yabello': 6, 'Shire': 67, 'Adigrat': 62, 'Adwa': 65, 'Dollo': 18, 'Kebri Dehar': 40, 'Moyale': 0, 'Axum': 66, 'Jigjiga': 40, 'Dega Habur': 45, 'Werdez': 4}\n",
    "GRAPH = {'Addis Ababa': [('Adama', 3), ('Ambo', 5), ('Debre Berhan', 5), ('Debre Markos', 13)], 'Adama': [('Matahara', 3), ('Asella', 4), ('Batu', 4), ('Addis Ababa', 3)], 'Ambo': [('Wolkite', 6), ('Addis Ababa', 5), ('Nekemte', 8)], 'Debre Berhan': [('Addis Ababa', 5), ('Debre Sina', 2)], 'Debre Markos': [('Addis Ababa', 13), ('Debre Sina', 17), ('Finote Selam', 3)], 'Matahara': [('Adama', 3), ('Awash', 1)], 'Asella': [('Adama', 4), ('Assasa', 4)], 'Batu': [('Adama', 4), ('Buta Jirra', 2), ('Shashamene', 3)], 'Wolkite': [('Ambo', 6), ('Worabe', 5), ('Jimma', 8), ('Hossana', 5), ('Buta Jirra', 4)], 'Nekemte': [('Ambo', 9), ('Bedelle', 5), ('Gimbi', 4)], 'Debre Sina': [('Debre Berhan', 2), ('Kemise', 7), ('Debre Markos', 17)], 'Finote Selam': [('Debre Markos', 3), ('Bahirdar', 6), ('Injibara', 2)], 'Awash': [('Chiro', 4), ('Gobi Rasu', 5), ('Matahara', 1)], 'Assasa': [('Asella', 4), ('Dodolla', 1)], 'Buta Jirra': [('Batu', 2), ('Wolkite', 4), ('Worabe', 2)], 'Shashamene': [('Batu', 3), ('Dodolla', 3), ('Hawassa', 1), ('Hossana', 7), ('Worabe', 6)], 'Worabe': [('Wolkite', 5), ('Hossana', 2), ('Shashamene', 6), ('Buta Jirra', 2)], 'Jimma': [('Wolkite', 8), ('Bonga', 4), ('Bedelle', 7)], 'Hossana': [('Shashamene', 7), ('Worabe', 2), ('Wolkite', 5), ('Wolaita Sodo', 4)], 'Bedelle': [('Nekemte', 5), ('Gore', 6), ('Jimma', 7)], 'Gimbi': [('Nekemte', 4), ('Dambidollo', 6), ('Assosa', 8)], 'Kemise': [('Debre Sina', 6), ('Dessie', 4)], 'Bahirdar': [('Finote Selam', 6), ('Injibara', 4), ('Metekel', 11), ('Azezo', 7), ('Debre Tabor', 4)], 'Injibara': [('Bahirdar', 4), ('Finote Selam', 2)], 'Chiro': [('Awash', 4), ('Dire Dawa', 8)], 'Gobi Rasu': [('Awash', 5), ('Samara', 10)], 'Dodolla': [('Assasa', 1), ('Shashamene', 3), ('Robe', 13)], 'Hawassa': [('Shashamene', 1), ('Dilla', 3)], 'Bonga': [('Jimma', 4), ('Dawro', 10), ('Tepi', 8), ('Mizan Teferi', 4)], 'Wolaita Sodo': [('Arba Minchi', 4), ('Dawro', 6), ('Hossana', 4)], 'Gore': [('Tepi', 9), ('Gambella', 5), ('Bedelle', 6)], 'Dambidollo': [('Gimbi', 6), ('Assosa', 12), ('Gambella', 4)], 'Assosa': [('Gimbi', 8), ('Dambidollo', 12)], 'Dessie': [('Kemise', 4), ('Woldia', 6)], 'Metekel': [('Bahirdar', 11)], 'Azezo': [('Gondar', 1), ('Bahirdar', 7), ('Metema', 7)], 'Debre Tabor': [('Lalibella', 8), ('Gondar', 6), ('Bahirdar', 4)], 'Dire Dawa': [('Chiro', 8), ('Harar', 4)], 'Samara': [('Gobi Rasu', 10), ('Fanti Rasu', 7), ('Alamata', 11), ('Woldia', 8)], 'Robe': [('Liben', 11), ('Dodolla', 13), ('Goba', 18), ('Sof Oumer', 23)], 'Dilla': [('Hawassa', 3), ('Bulehora', 4)], 'Dawro': [('Bonga', 10), ('Wolaita Sodo', 6)], 'Tepi': [('Gore', 9), ('Bonga', 8), ('Mizan Teferi', 4)], 'Mizan Teferi': [('Tepi', 4), ('Bonga', 4)], 'Gambella': [('Gore', 5), ('Dambidollo', 4)], 'Arba Minchi': [('Wolaita Sodo', 5), ('Konso', 4), ('Basketo', 10)], 'Woldia': [('Dessie', 6), ('Lalibella', 7), ('Samara', 8), ('Alamata', 3)], 'Gondar': [('Azezo', 1), ('Humera', 9), ('Metema', 7), ('Debarke', 4), ('Debre Tabor', 6)], 'Metema': [('Azezo', 7), ('Gondar', 7)], 'Lalibella': [('Woldia', 7), ('Debre Tabor', 8), ('Sekota', 6)], 'Harar': [('Dire Dawa', 4), ('Babile', 2)], 'Fanti Rasu': [('Samara', 7), ('Kilbet Rasu', 6)], 'Alamata': [('Samara', 11), ('Woldia', 3), ('Mekelle', 5), ('Sekota', 6)], 'Liben': [('Robe', 11)], 'Goba': [('Robe', 18), ('Sof Oumer', 6), ('Babile', 28)], 'Sof Oumer': [('Goba', 6), ('Robe', 23), ('Gode', 23)], 'Bulehora': [('Dilla', 4), ('Yabello', 3)], 'Konso': [('Arba Minchi', 4), ('Yabello', 3)], 'Basketo': [('Arba Minchi', 10), ('Bench Maji', 5)], 'Humera': [('Shire', 8), ('Gondar', 9)], 'Debarke': [('Gondar', 4), ('Shire', 7)], 'Sekota': [('Alamata', 6), ('Mekelle', 9), ('Lalibella', 6)], 'Babile': [('Harar', 2), ('Jigjiga', 3), ('Goba', 28)], 'Kilbet Rasu': [('Fanti Rasu', 6)], 'Mekelle': [('Alamata', 5), ('Adigrat', 4), ('Adwa', 7), ('Sekota', 9)], 'Gode': [('Dollo', 17), ('Kebri Dehar', 5), ('Sof Oumer', 23)], 'Yabello': [('Bulehora', 3), ('Konso', 3), ('Moyale', 6)], 'Bench Maji': [('Basketo', 5)], 'Shire': [('Axum', 2), ('Humera', 8), ('Debarke', 7)], 'Jigjiga': [('Babile', 3), ('Dega Habur', 5)], 'Adigrat': [('Mekelle', 4), ('Adwa', 4)], 'Adwa': [('Mekelle', 7), ('Axum', 1), ('Adigrat', 4)], 'Dollo': [('Gode', 17), ('Moyale', 18)], 'Kebri Dehar': [('Gode', 5), ('Dega Habur', 6), ('Werdez', 6)], 'Moyale': [('Dollo', 18), ('Liben', 11), ('Yabello', 6)], 'Axum': [('Shire', 2), ('Adwa', 1)], 'Dega Habur': [('Jigjiga', 5), ('Kebri Dehar', 6)], 'Werdez': [('Kebri Dehar', 6)]}"
   ]
  },
  {
   "cell_type": "code",
   "execution_count": 33,
   "metadata": {
    "id": "oeH_2Rrb8SYk"
   },
   "outputs": [],
   "source": [
    "import heapq\n",
    "import itertools\n",
    "\n",
    "class TravelingEthiopia:\n",
    "    def __init__(self, graph, heuristic):\n",
    "        self.graph = graph\n",
    "        self.heuristic = heuristic\n",
    "\n",
    "    def search(self, start, goal, strategy='A*'):\n",
    "        if strategy == 'UniformCost':\n",
    "            return self.uniform_cost_search(start, goal)\n",
    "        elif strategy == 'A*':\n",
    "            return self.a_star_search(start, goal)\n",
    "        else:\n",
    "            raise ValueError(\"Unsupported strategy. Choose from 'UniformCost', 'GreedyBFS', or 'A*'.\")\n",
    "\n",
    "    def uniform_cost_search(self, start, goal):\n",
    "        open_list = [(0, start)]\n",
    "        came_from = {}\n",
    "        cost_so_far = {start: 0}\n",
    "\n",
    "        while open_list:\n",
    "            current_cost, current = heapq.heappop(open_list)\n",
    "\n",
    "            if current == goal:\n",
    "                return self.reconstruct_path(came_from, current, cost_so_far[current])\n",
    "\n",
    "            for neighbor, cost in self.graph.get(current, []):\n",
    "                new_cost = current_cost + cost\n",
    "                if neighbor not in cost_so_far or new_cost < cost_so_far[neighbor]:\n",
    "                    cost_so_far[neighbor] = new_cost\n",
    "                    priority = new_cost\n",
    "                    heapq.heappush(open_list, (priority, neighbor))\n",
    "                    came_from[neighbor] = current\n",
    "\n",
    "        print(\"Uniform Cost Search failed to find a path.\")\n",
    "        return None\n",
    "\n",
    "    def multi_goal_uniform_cost_search(self, start, goals):\n",
    "        all_paths = []\n",
    "        all_costs = []\n",
    "\n",
    "        for subset in itertools.permutations(goals):\n",
    "            current_start = start\n",
    "            total_path = []\n",
    "            total_cost = 0\n",
    "\n",
    "            for goal in subset:\n",
    "                path, cost = self.uniform_cost_search(current_start, goal)\n",
    "                if path is None:\n",
    "                    break\n",
    "                total_path.extend(path[:-1])\n",
    "                total_cost += cost\n",
    "                current_start = goal\n",
    "\n",
    "            total_path.append(current_start)\n",
    "            all_paths.append(total_path)\n",
    "            all_costs.append(total_cost)\n",
    "\n",
    "        min_cost_index = all_costs.index(min(all_costs))\n",
    "        min_cost_path = all_paths[min_cost_index]\n",
    "        min_cost = all_costs[min_cost_index]\n",
    "\n",
    "        return min_cost_path, min_cost\n",
    "    def a_star_search(self, start, goal):\n",
    "        open_list = [(self.heuristic[start], start)]\n",
    "        came_from = {}\n",
    "        g_score = {start: 0}\n",
    "\n",
    "        while open_list:\n",
    "            _, current = heapq.heappop(open_list)\n",
    "\n",
    "            if current == goal:\n",
    "                print(\"Goal reached!\")\n",
    "                return self.reconstruct_path(came_from, current, g_score[current])\n",
    "\n",
    "            for neighbor, cost in self.graph.get(current, []):\n",
    "                tentative_g_score = g_score[current] + cost\n",
    "                if neighbor not in g_score or tentative_g_score < g_score[neighbor]:\n",
    "                    g_score[neighbor] = tentative_g_score\n",
    "                    f_score = tentative_g_score + self.heuristic[neighbor]\n",
    "                    heapq.heappush(open_list, (f_score, neighbor))\n",
    "                    came_from[neighbor] = current\n",
    "\n",
    "        print(\"A* Search failed to find a path.\")\n",
    "        return None\n",
    "\n",
    "    def reconstruct_path(self, came_from, current, cost):\n",
    "        total_path = [current]\n",
    "        while current in came_from:\n",
    "            current = came_from[current]\n",
    "            total_path.append(current)\n",
    "        total_path.reverse()\n",
    "        return total_path, cost"
   ]
  },
  {
   "cell_type": "code",
   "execution_count": 35,
   "metadata": {
    "id": "53UESoLTbhVy"
   },
   "outputs": [],
   "source": [
    "te = TravelingEthiopia(GRAPH, HEURISTIC)"
   ]
  },
  {
   "cell_type": "code",
   "execution_count": 36,
   "metadata": {
    "id": "_VyhVyRlbnl2"
   },
   "outputs": [],
   "source": [
    "start_state = 'Addis Ababa'\n",
    "goal_state = 'Lalibella'"
   ]
  },
  {
   "cell_type": "code",
   "execution_count": 37,
   "metadata": {
    "colab": {
     "base_uri": "https://localhost:8080/"
    },
    "id": "DhZ1Ij90bivL",
    "outputId": "a507f648-8dfc-4582-fa5a-9bdacb8aeb45"
   },
   "outputs": [
    {
     "name": "stdout",
     "output_type": "stream",
     "text": [
      "Uniform Cost Search Path from Addis Ababa to Lalibella: (['Addis Ababa', 'Debre Berhan', 'Debre Sina', 'Kemise', 'Dessie', 'Woldia', 'Lalibella'], 31)\n",
      "CPU times: user 1.53 ms, sys: 1.09 ms, total: 2.62 ms\n",
      "Wall time: 2.34 ms\n"
     ]
    }
   ],
   "source": [
    "%%time\n",
    "# Uniform Cost Search\n",
    "ucs_path = te.search(start_state, goal_state, strategy='UniformCost')\n",
    "print(f'Uniform Cost Search Path from {start_state} to {goal_state}: {ucs_path}')"
   ]
  },
  {
   "cell_type": "code",
   "execution_count": 38,
   "metadata": {
    "id": "9sJQalhxbujr"
   },
   "outputs": [],
   "source": [
    "goal_states = [\"Axum\", \"Gondar\", \"Lalibella\", \"Babile\",\n",
    " \"Jimma\", \"Sof Oumer\",]"
   ]
  },
  {
   "cell_type": "code",
   "execution_count": 39,
   "metadata": {
    "colab": {
     "base_uri": "https://localhost:8080/"
    },
    "collapsed": true,
    "id": "6vHNuMmedF-w",
    "outputId": "bee635b5-e332-4701-d202-1c28d5c17c5d"
   },
   "outputs": [
    {
     "name": "stdout",
     "output_type": "stream",
     "text": [
      "Uniform Cost Search Multi Goal Path from Addis Ababa to ['Axum', 'Gondar', 'Lalibella', 'Babile', 'Jimma', 'Sof Oumer']: (['Addis Ababa', 'Ambo', 'Wolkite', 'Jimma', 'Wolkite', 'Buta Jirra', 'Batu', 'Shashamene', 'Dodolla', 'Robe', 'Sof Oumer', 'Goba', 'Babile', 'Harar', 'Dire Dawa', 'Chiro', 'Awash', 'Gobi Rasu', 'Samara', 'Woldia', 'Lalibella', 'Debre Tabor', 'Gondar', 'Debarke', 'Shire', 'Axum'], 184)\n",
      "CPU times: user 473 ms, sys: 0 ns, total: 473 ms\n",
      "Wall time: 497 ms\n"
     ]
    }
   ],
   "source": [
    "%%time\n",
    "# Uniform Cost Search\n",
    "ucs_path = te.multi_goal_uniform_cost_search(start_state, goal_states)\n",
    "print(f'Uniform Cost Search Multi Goal Path from {start_state} to {goal_states}: {ucs_path}')\n"
   ]
  },
  {
   "cell_type": "code",
   "execution_count": 40,
   "metadata": {
    "colab": {
     "base_uri": "https://localhost:8080/"
    },
    "id": "vD8j7wtnfg5v",
    "outputId": "3d0c5cdb-b057-4e6e-a5de-38690216a228"
   },
   "outputs": [
    {
     "name": "stdout",
     "output_type": "stream",
     "text": [
      "Goal reached!\n",
      "A* Search Path from Addis Ababa to Moyale: (['Addis Ababa', 'Adama', 'Batu', 'Shashamene', 'Hawassa', 'Dilla', 'Bulehora', 'Yabello', 'Moyale'], 27)\n",
      "CPU times: user 208 µs, sys: 24 µs, total: 232 µs\n",
      "Wall time: 237 µs\n"
     ]
    }
   ],
   "source": [
    "%%time\n",
    "# A* Search\n",
    "goal_state = 'Moyale'\n",
    "ucs_path = te.search(start_state, goal_state, strategy='A*')\n",
    "print(f'A* Search Path from {start_state} to {goal_state}: {ucs_path}')"
   ]
  },
  {
   "cell_type": "markdown",
   "metadata": {
    "id": "bNoJXAbQYzbA"
   },
   "source": [
    "##MiniMax"
   ]
  },
  {
   "cell_type": "code",
   "execution_count": 41,
   "metadata": {
    "id": "9wb2k33ydn2a"
   },
   "outputs": [],
   "source": [
    "import sys\n",
    "\n",
    "def maximize(node, depth, terminal_nodes_utility, ethiopia_coffee_location ):\n",
    "    if node in terminal_nodes_utility:\n",
    "        return [node], terminal_nodes_utility[node]\n",
    "\n",
    "    max_utility = -sys.maxsize - 1\n",
    "    best_path = None\n",
    "    for neighbor in ethiopia_coffee_location[node]:\n",
    "        path, utility = minimize(neighbor, depth + 1, terminal_nodes_utility,ethiopia_coffee_location)\n",
    "        if utility > max_utility:\n",
    "            max_utility = utility\n",
    "            best_path = [node] + path\n",
    "    return best_path, max_utility\n",
    "\n",
    "def minimize(node, depth, terminal_nodes_utility, ethiopia_coffee_location):\n",
    "    if node in terminal_nodes_utility:\n",
    "        return [node], terminal_nodes_utility[node]\n",
    "\n",
    "    min_utility = sys.maxsize\n",
    "    best_path = None\n",
    "    for neighbor in ethiopia_coffee_location[node]:\n",
    "        path, utility = maximize(neighbor, depth + 1, terminal_nodes_utility, ethiopia_coffee_location)\n",
    "        if utility < min_utility:\n",
    "            min_utility = utility\n",
    "            best_path = [node] + path\n",
    "    return best_path, min_utility\n",
    "\n",
    "def minimax(start_node, terminal_nodes_utility, ethiopia_coffee_location):\n",
    "    return maximize(start_node, 0, terminal_nodes_utility,ethiopia_coffee_location)"
   ]
  },
  {
   "cell_type": "code",
   "execution_count": 42,
   "metadata": {
    "id": "x3WLbTjNd04A"
   },
   "outputs": [],
   "source": [
    "terminal_nodes_utility = {'Shambu': 4, 'Fincha': 5, 'Gimbi': 8, 'Limu': 8, 'Hosana': 6, 'Durame': 5, 'Benchi Naji': 5, 'Tepi': 6, 'Kaffa': 7, 'Dilla': 9, 'Chiro': 6, 'Harar': 10}\n",
    "ethiopia_coffee_location = {\n",
    "    \"Addis Ababa\": {\"Ambo\", \"Buta Jirra\", \"Adama\"},\n",
    "    \"Ambo\": {\"Gedo\", \"Nekemte\"},\n",
    "    \"Buta Jirra\": {\"Worabe\", \"Wolkite\"},\n",
    "    \"Adama\": {\"Dire Dawa\", \"Mojo\"},\n",
    "    \"Gedo\": {\"Shambu\", \"Fincha\"},\n",
    "    \"Nekemte\": {\"Gimbi\", \"Limu\"},\n",
    "    \"Worabe\": {\"Hosana\", \"Durame\"},\n",
    "    \"Wolkite\": {\"Benchi Naji\", \"Tepi\"},\n",
    "    \"Mojo\": {\"Dilla\", \"Kaffa\"},\n",
    "    \"Dire Dawa\": {\"Chiro\", \"Harar\"}\n",
    "}\n"
   ]
  },
  {
   "cell_type": "code",
   "execution_count": 43,
   "metadata": {
    "colab": {
     "base_uri": "https://localhost:8080/"
    },
    "id": "l37tsETAeYBZ",
    "outputId": "1b67b296-25cb-4e14-ba9c-9b2f9d04eeeb"
   },
   "outputs": [
    {
     "name": "stdout",
     "output_type": "stream",
     "text": [
      "Best path: Addis Ababa -> Adama -> Mojo -> Dilla, Utility: 9\n"
     ]
    }
   ],
   "source": [
    "best_path, utility = minimax(\"Addis Ababa\", terminal_nodes_utility, ethiopia_coffee_location)\n",
    "print(f\"Best path: {' -> '.join(best_path)}, Utility: {utility}\")"
   ]
  }
 ],
 "metadata": {
  "colab": {
   "collapsed_sections": [
    "1Pdk931BZhqI"
   ],
   "provenance": []
  },
  "kernelspec": {
   "display_name": "Python 3 (ipykernel)",
   "language": "python",
   "name": "python3"
  },
  "language_info": {
   "codemirror_mode": {
    "name": "ipython",
    "version": 3
   },
   "file_extension": ".py",
   "mimetype": "text/x-python",
   "name": "python",
   "nbconvert_exporter": "python",
   "pygments_lexer": "ipython3",
   "version": "3.10.12"
  }
 },
 "nbformat": 4,
 "nbformat_minor": 1
}
